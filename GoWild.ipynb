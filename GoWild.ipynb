{
 "cells": [
  {
   "cell_type": "code",
   "execution_count": 50,
   "metadata": {},
   "outputs": [],
   "source": [
    "import pandas as pd\n",
    "import numpy as np\n",
    "import requests\n",
    "import os\n",
    "from IPython.display import display\n",
    "import urllib.request\n",
    "import time\n",
    "\n",
    "import random\n",
    "random.seed(1)"
   ]
  },
  {
   "cell_type": "code",
   "execution_count": 25,
   "metadata": {},
   "outputs": [],
   "source": [
    "if not os.path.exists('ml-20m'):\n",
    "\n",
    "    import urllib.request\n",
    "    urllib.request.urlretrieve('http://files.grouplens.org/datasets/movielens/ml-20m.zip', 'ml-20m.zip')\n",
    "\n",
    "    import zipfile\n",
    "    with zipfile.ZipFile('ml-20m.zip',\"r\") as zip_ref:\n",
    "        zip_ref.extractall()\n",
    "        \n",
    "    os.remove('ml-20m.zip')"
   ]
  },
  {
   "cell_type": "code",
   "execution_count": 26,
   "metadata": {},
   "outputs": [],
   "source": [
    "movies = pd.read_csv('ml-20m/movies.csv')\n",
    "movies.dropna(inplace=True)\n",
    "movies = movies[(movies['genres'] != '(no genres listed)') & (movies['genres'].map(lambda r: 'IMAX' not in r))]\n",
    "\n",
    "links = pd.read_csv('ml-20m/links.csv')\n",
    "links.dropna(inplace=True)\n",
    "links.tmdbId = links.tmdbId.astype(int)\n",
    "\n",
    "movies = pd.merge(movies, links, how='inner', on=['movieId'])\n",
    "movies.dropna(inplace=True)\n",
    "movies.head()\n",
    "\n",
    "#links.head()\n",
    "#movies.head()"
   ]
  },
  {
   "cell_type": "code",
   "execution_count": 53,
   "metadata": {},
   "outputs": [
    {
     "data": {
      "text/plain": [
       "{'Action',\n",
       " 'Adventure',\n",
       " 'Animation',\n",
       " 'Children',\n",
       " 'Comedy',\n",
       " 'Crime',\n",
       " 'Documentary',\n",
       " 'Drama',\n",
       " 'Fantasy',\n",
       " 'Film-Noir',\n",
       " 'Horror',\n",
       " 'Musical',\n",
       " 'Mystery',\n",
       " 'Romance',\n",
       " 'Sci-Fi',\n",
       " 'Thriller',\n",
       " 'War',\n",
       " 'Western'}"
      ]
     },
     "execution_count": 53,
     "metadata": {},
     "output_type": "execute_result"
    }
   ],
   "source": [
    "from collections import Set\n",
    "\n",
    "def calc_existing_genres(movies):\n",
    "    genres_set = set()\n",
    "    for genre_list in movies['genres']:\n",
    "        for genre in genre_list.split('|'):\n",
    "            genres_set.add(genre)\n",
    "    return genres_set\n",
    "        \n",
    "calc_existing_genres(movies)"
   ]
  },
  {
   "cell_type": "code",
   "execution_count": null,
   "metadata": {
    "scrolled": false
   },
   "outputs": [
    {
     "data": {
      "text/html": [
       "<div>\n",
       "<style scoped>\n",
       "    .dataframe tbody tr th:only-of-type {\n",
       "        vertical-align: middle;\n",
       "    }\n",
       "\n",
       "    .dataframe tbody tr th {\n",
       "        vertical-align: top;\n",
       "    }\n",
       "\n",
       "    .dataframe thead th {\n",
       "        text-align: right;\n",
       "    }\n",
       "</style>\n",
       "<table border=\"1\" class=\"dataframe\">\n",
       "  <thead>\n",
       "    <tr style=\"text-align: right;\">\n",
       "      <th></th>\n",
       "      <th>movieId</th>\n",
       "      <th>title</th>\n",
       "      <th>genres</th>\n",
       "      <th>imdbId</th>\n",
       "      <th>tmdbId</th>\n",
       "    </tr>\n",
       "  </thead>\n",
       "  <tbody>\n",
       "    <tr>\n",
       "      <th>12886</th>\n",
       "      <td>61868</td>\n",
       "      <td>Jam (2006)</td>\n",
       "      <td>Drama</td>\n",
       "      <td>482528</td>\n",
       "      <td>71139</td>\n",
       "    </tr>\n",
       "    <tr>\n",
       "      <th>22066</th>\n",
       "      <td>107710</td>\n",
       "      <td>Marvin Hamlisch: What He Did for Love (2013)</td>\n",
       "      <td>Documentary|Musical</td>\n",
       "      <td>3011874</td>\n",
       "      <td>230864</td>\n",
       "    </tr>\n",
       "    <tr>\n",
       "      <th>14703</th>\n",
       "      <td>74297</td>\n",
       "      <td>Electric Shadows (Meng ying tong nian) (2004)</td>\n",
       "      <td>Drama</td>\n",
       "      <td>424273</td>\n",
       "      <td>26137</td>\n",
       "    </tr>\n",
       "    <tr>\n",
       "      <th>2135</th>\n",
       "      <td>2256</td>\n",
       "      <td>Parasite (1982)</td>\n",
       "      <td>Horror|Sci-Fi</td>\n",
       "      <td>84472</td>\n",
       "      <td>48311</td>\n",
       "    </tr>\n",
       "    <tr>\n",
       "      <th>22558</th>\n",
       "      <td>109667</td>\n",
       "      <td>Great Freedom No. 7 (Port of Freedom) (Große F...</td>\n",
       "      <td>Drama|Musical|Romance</td>\n",
       "      <td>36882</td>\n",
       "      <td>10574</td>\n",
       "    </tr>\n",
       "  </tbody>\n",
       "</table>\n",
       "</div>"
      ],
      "text/plain": [
       "       movieId                                              title  \\\n",
       "12886    61868                                         Jam (2006)   \n",
       "22066   107710       Marvin Hamlisch: What He Did for Love (2013)   \n",
       "14703    74297      Electric Shadows (Meng ying tong nian) (2004)   \n",
       "2135      2256                                    Parasite (1982)   \n",
       "22558   109667  Great Freedom No. 7 (Port of Freedom) (Große F...   \n",
       "\n",
       "                      genres   imdbId  tmdbId  \n",
       "12886                  Drama   482528   71139  \n",
       "22066    Documentary|Musical  3011874  230864  \n",
       "14703                  Drama   424273   26137  \n",
       "2135           Horror|Sci-Fi    84472   48311  \n",
       "22558  Drama|Musical|Romance    36882   10574  "
      ]
     },
     "metadata": {},
     "output_type": "display_data"
    }
   ],
   "source": [
    "posters_base_url = 'https://api.themoviedb.org/3/movie/{}/images?api_key=c4d5a44a2b7b36e4d40d0d1e713a8fee'\n",
    "display(movies_sample.head())\n",
    "\n",
    "poster_base_url = 'https://image.tmdb.org/t/p/w300{}'\n",
    "\n",
    "posters_dir = os.path.join('.', 'posters')\n",
    "os.makedirs(posters_dir, exist_ok=True)\n",
    "\n",
    "random_movies = movies.sample(frac=1, random_state=1)\n",
    "\n",
    "count = 0\n",
    "for index, row in random_movies.iterrows():\n",
    "    response = requests.get(posters_base_url.format(row.tmdbId))\n",
    "    json_response = response.json()\n",
    "    \n",
    "    if 'posters' in json_response and len(json_response['posters']) > 0:\n",
    "        count += 1\n",
    "        posters = json_response['posters']\n",
    "        random_poster = random.choice(posters)\n",
    "        poster_url = poster_base_url.format(random_poster['file_path'])\n",
    "        poster_file_name = str(row.movieId) + '.' + random_poster['file_path'].split('.')[-1]\n",
    "        poster_path = os.path.join(posters_dir, poster_file_name)\n",
    "        urllib.request.urlretrieve(poster_url, poster_path)\n",
    "        \n",
    "    if count >= 3000:\n",
    "        break\n",
    "    time.sleep(0.3)\n",
    "    \n",
    "response.json()"
   ]
  }
 ],
 "metadata": {
  "kernelspec": {
   "display_name": "Python 3",
   "language": "python",
   "name": "python3"
  },
  "language_info": {
   "codemirror_mode": {
    "name": "ipython",
    "version": 3
   },
   "file_extension": ".py",
   "mimetype": "text/x-python",
   "name": "python",
   "nbconvert_exporter": "python",
   "pygments_lexer": "ipython3",
   "version": "3.6.4"
  }
 },
 "nbformat": 4,
 "nbformat_minor": 2
}
